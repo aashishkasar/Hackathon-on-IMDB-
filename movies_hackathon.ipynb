{
 "cells": [
  {
   "cell_type": "code",
   "execution_count": 85,
   "id": "434eb3db",
   "metadata": {},
   "outputs": [],
   "source": [
    "import pandas as pd \n",
    "import seaborn as sns\n",
    "import matplotlib.pyplot as plt\n",
    "import numpy as np\n",
    "import requests \n",
    "from bs4 import BeautifulSoup\n",
    "from tqdm import tqdm\n",
    "#import FILL_IN_THE_BLANK"
   ]
  },
  {
   "cell_type": "code",
   "execution_count": 3,
   "id": "36014dd5",
   "metadata": {},
   "outputs": [],
   "source": [
    "movies = pd.read_csv('./movies.csv')\n",
    "ratings = pd.read_csv('./ratings.csv') \n",
    "links = pd.read_csv('./links.csv')\n",
    "tags = pd.read_csv('./tags.csv')"
   ]
  },
  {
   "cell_type": "markdown",
   "id": "a8ca67b1",
   "metadata": {},
   "source": [
    "#### Q1. What is the shape of \"movies.csv\"?\n",
    "#### 4 csv"
   ]
  },
  {
   "cell_type": "markdown",
   "id": "8ae8dc53",
   "metadata": {},
   "source": [
    "#### Q2. What is the shape of \"ratings.csv\"?"
   ]
  },
  {
   "cell_type": "code",
   "execution_count": 5,
   "id": "045e44e2",
   "metadata": {},
   "outputs": [
    {
     "data": {
      "text/plain": [
       "(9742, 3)"
      ]
     },
     "execution_count": 5,
     "metadata": {},
     "output_type": "execute_result"
    }
   ],
   "source": [
    "movies.shape"
   ]
  },
  {
   "cell_type": "markdown",
   "id": "b5d43b3b",
   "metadata": {},
   "source": [
    "#### Q3. How many unique \"userId\" are available in \"ratings.csv\""
   ]
  },
  {
   "cell_type": "code",
   "execution_count": 6,
   "id": "10a039fd",
   "metadata": {},
   "outputs": [
    {
     "data": {
      "text/plain": [
       "(100836, 4)"
      ]
     },
     "execution_count": 6,
     "metadata": {},
     "output_type": "execute_result"
    }
   ],
   "source": [
    "ratings.shape"
   ]
  },
  {
   "cell_type": "markdown",
   "id": "84a6fd1a",
   "metadata": {},
   "source": [
    "#### Q4. Which movie has recieved maximum number of user ratings?"
   ]
  },
  {
   "cell_type": "code",
   "execution_count": 7,
   "id": "6ac8b12a",
   "metadata": {},
   "outputs": [
    {
     "data": {
      "text/plain": [
       "610"
      ]
     },
     "execution_count": 7,
     "metadata": {},
     "output_type": "execute_result"
    }
   ],
   "source": [
    "ratings['userId'].nunique()"
   ]
  },
  {
   "cell_type": "markdown",
   "id": "0f838999",
   "metadata": {},
   "source": [
    "#### Q5. Select all the correct tags submitted by users to \"Matrix, The (1999)\" movie?"
   ]
  },
  {
   "cell_type": "code",
   "execution_count": 8,
   "id": "a919f4ef",
   "metadata": {},
   "outputs": [
    {
     "data": {
      "text/html": [
       "<div>\n",
       "<style scoped>\n",
       "    .dataframe tbody tr th:only-of-type {\n",
       "        vertical-align: middle;\n",
       "    }\n",
       "\n",
       "    .dataframe tbody tr th {\n",
       "        vertical-align: top;\n",
       "    }\n",
       "\n",
       "    .dataframe thead th {\n",
       "        text-align: right;\n",
       "    }\n",
       "</style>\n",
       "<table border=\"1\" class=\"dataframe\">\n",
       "  <thead>\n",
       "    <tr style=\"text-align: right;\">\n",
       "      <th></th>\n",
       "      <th>movieId</th>\n",
       "      <th>title</th>\n",
       "      <th>genres</th>\n",
       "      <th>userId</th>\n",
       "      <th>rating</th>\n",
       "      <th>timestamp</th>\n",
       "    </tr>\n",
       "  </thead>\n",
       "  <tbody>\n",
       "    <tr>\n",
       "      <th>0</th>\n",
       "      <td>1</td>\n",
       "      <td>Toy Story (1995)</td>\n",
       "      <td>Adventure|Animation|Children|Comedy|Fantasy</td>\n",
       "      <td>1</td>\n",
       "      <td>4.0</td>\n",
       "      <td>964982703</td>\n",
       "    </tr>\n",
       "    <tr>\n",
       "      <th>1</th>\n",
       "      <td>1</td>\n",
       "      <td>Toy Story (1995)</td>\n",
       "      <td>Adventure|Animation|Children|Comedy|Fantasy</td>\n",
       "      <td>5</td>\n",
       "      <td>4.0</td>\n",
       "      <td>847434962</td>\n",
       "    </tr>\n",
       "    <tr>\n",
       "      <th>2</th>\n",
       "      <td>1</td>\n",
       "      <td>Toy Story (1995)</td>\n",
       "      <td>Adventure|Animation|Children|Comedy|Fantasy</td>\n",
       "      <td>7</td>\n",
       "      <td>4.5</td>\n",
       "      <td>1106635946</td>\n",
       "    </tr>\n",
       "    <tr>\n",
       "      <th>3</th>\n",
       "      <td>1</td>\n",
       "      <td>Toy Story (1995)</td>\n",
       "      <td>Adventure|Animation|Children|Comedy|Fantasy</td>\n",
       "      <td>15</td>\n",
       "      <td>2.5</td>\n",
       "      <td>1510577970</td>\n",
       "    </tr>\n",
       "    <tr>\n",
       "      <th>4</th>\n",
       "      <td>1</td>\n",
       "      <td>Toy Story (1995)</td>\n",
       "      <td>Adventure|Animation|Children|Comedy|Fantasy</td>\n",
       "      <td>17</td>\n",
       "      <td>4.5</td>\n",
       "      <td>1305696483</td>\n",
       "    </tr>\n",
       "    <tr>\n",
       "      <th>...</th>\n",
       "      <td>...</td>\n",
       "      <td>...</td>\n",
       "      <td>...</td>\n",
       "      <td>...</td>\n",
       "      <td>...</td>\n",
       "      <td>...</td>\n",
       "    </tr>\n",
       "    <tr>\n",
       "      <th>100831</th>\n",
       "      <td>193581</td>\n",
       "      <td>Black Butler: Book of the Atlantic (2017)</td>\n",
       "      <td>Action|Animation|Comedy|Fantasy</td>\n",
       "      <td>184</td>\n",
       "      <td>4.0</td>\n",
       "      <td>1537109082</td>\n",
       "    </tr>\n",
       "    <tr>\n",
       "      <th>100832</th>\n",
       "      <td>193583</td>\n",
       "      <td>No Game No Life: Zero (2017)</td>\n",
       "      <td>Animation|Comedy|Fantasy</td>\n",
       "      <td>184</td>\n",
       "      <td>3.5</td>\n",
       "      <td>1537109545</td>\n",
       "    </tr>\n",
       "    <tr>\n",
       "      <th>100833</th>\n",
       "      <td>193585</td>\n",
       "      <td>Flint (2017)</td>\n",
       "      <td>Drama</td>\n",
       "      <td>184</td>\n",
       "      <td>3.5</td>\n",
       "      <td>1537109805</td>\n",
       "    </tr>\n",
       "    <tr>\n",
       "      <th>100834</th>\n",
       "      <td>193587</td>\n",
       "      <td>Bungo Stray Dogs: Dead Apple (2018)</td>\n",
       "      <td>Action|Animation</td>\n",
       "      <td>184</td>\n",
       "      <td>3.5</td>\n",
       "      <td>1537110021</td>\n",
       "    </tr>\n",
       "    <tr>\n",
       "      <th>100835</th>\n",
       "      <td>193609</td>\n",
       "      <td>Andrew Dice Clay: Dice Rules (1991)</td>\n",
       "      <td>Comedy</td>\n",
       "      <td>331</td>\n",
       "      <td>4.0</td>\n",
       "      <td>1537157606</td>\n",
       "    </tr>\n",
       "  </tbody>\n",
       "</table>\n",
       "<p>100836 rows × 6 columns</p>\n",
       "</div>"
      ],
      "text/plain": [
       "        movieId                                      title  \\\n",
       "0             1                           Toy Story (1995)   \n",
       "1             1                           Toy Story (1995)   \n",
       "2             1                           Toy Story (1995)   \n",
       "3             1                           Toy Story (1995)   \n",
       "4             1                           Toy Story (1995)   \n",
       "...         ...                                        ...   \n",
       "100831   193581  Black Butler: Book of the Atlantic (2017)   \n",
       "100832   193583               No Game No Life: Zero (2017)   \n",
       "100833   193585                               Flint (2017)   \n",
       "100834   193587        Bungo Stray Dogs: Dead Apple (2018)   \n",
       "100835   193609        Andrew Dice Clay: Dice Rules (1991)   \n",
       "\n",
       "                                             genres  userId  rating  \\\n",
       "0       Adventure|Animation|Children|Comedy|Fantasy       1     4.0   \n",
       "1       Adventure|Animation|Children|Comedy|Fantasy       5     4.0   \n",
       "2       Adventure|Animation|Children|Comedy|Fantasy       7     4.5   \n",
       "3       Adventure|Animation|Children|Comedy|Fantasy      15     2.5   \n",
       "4       Adventure|Animation|Children|Comedy|Fantasy      17     4.5   \n",
       "...                                             ...     ...     ...   \n",
       "100831              Action|Animation|Comedy|Fantasy     184     4.0   \n",
       "100832                     Animation|Comedy|Fantasy     184     3.5   \n",
       "100833                                        Drama     184     3.5   \n",
       "100834                             Action|Animation     184     3.5   \n",
       "100835                                       Comedy     331     4.0   \n",
       "\n",
       "         timestamp  \n",
       "0        964982703  \n",
       "1        847434962  \n",
       "2       1106635946  \n",
       "3       1510577970  \n",
       "4       1305696483  \n",
       "...            ...  \n",
       "100831  1537109082  \n",
       "100832  1537109545  \n",
       "100833  1537109805  \n",
       "100834  1537110021  \n",
       "100835  1537157606  \n",
       "\n",
       "[100836 rows x 6 columns]"
      ]
     },
     "execution_count": 8,
     "metadata": {},
     "output_type": "execute_result"
    }
   ],
   "source": [
    "movie_ratings = pd.merge(movies, ratings, on='movieId', how='inner')\n",
    "movie_ratings"
   ]
  },
  {
   "cell_type": "code",
   "execution_count": 9,
   "id": "acbab09f",
   "metadata": {},
   "outputs": [
    {
     "data": {
      "text/plain": [
       "Index(['movieId', 'title', 'genres', 'userId', 'rating', 'timestamp'], dtype='object')"
      ]
     },
     "execution_count": 9,
     "metadata": {},
     "output_type": "execute_result"
    }
   ],
   "source": [
    "movie_ratings.columns"
   ]
  },
  {
   "cell_type": "code",
   "execution_count": 10,
   "id": "d8992e01",
   "metadata": {},
   "outputs": [
    {
     "data": {
      "text/html": [
       "<div>\n",
       "<style scoped>\n",
       "    .dataframe tbody tr th:only-of-type {\n",
       "        vertical-align: middle;\n",
       "    }\n",
       "\n",
       "    .dataframe tbody tr th {\n",
       "        vertical-align: top;\n",
       "    }\n",
       "\n",
       "    .dataframe thead th {\n",
       "        text-align: right;\n",
       "    }\n",
       "</style>\n",
       "<table border=\"1\" class=\"dataframe\">\n",
       "  <thead>\n",
       "    <tr style=\"text-align: right;\">\n",
       "      <th></th>\n",
       "      <th>title</th>\n",
       "      <th>userId</th>\n",
       "    </tr>\n",
       "  </thead>\n",
       "  <tbody>\n",
       "    <tr>\n",
       "      <th>0</th>\n",
       "      <td>'71 (2014)</td>\n",
       "      <td>1</td>\n",
       "    </tr>\n",
       "    <tr>\n",
       "      <th>1</th>\n",
       "      <td>'Hellboy': The Seeds of Creation (2004)</td>\n",
       "      <td>1</td>\n",
       "    </tr>\n",
       "    <tr>\n",
       "      <th>2</th>\n",
       "      <td>'Round Midnight (1986)</td>\n",
       "      <td>2</td>\n",
       "    </tr>\n",
       "    <tr>\n",
       "      <th>3</th>\n",
       "      <td>'Salem's Lot (2004)</td>\n",
       "      <td>1</td>\n",
       "    </tr>\n",
       "    <tr>\n",
       "      <th>4</th>\n",
       "      <td>'Til There Was You (1997)</td>\n",
       "      <td>2</td>\n",
       "    </tr>\n",
       "    <tr>\n",
       "      <th>...</th>\n",
       "      <td>...</td>\n",
       "      <td>...</td>\n",
       "    </tr>\n",
       "    <tr>\n",
       "      <th>9714</th>\n",
       "      <td>eXistenZ (1999)</td>\n",
       "      <td>22</td>\n",
       "    </tr>\n",
       "    <tr>\n",
       "      <th>9715</th>\n",
       "      <td>xXx (2002)</td>\n",
       "      <td>24</td>\n",
       "    </tr>\n",
       "    <tr>\n",
       "      <th>9716</th>\n",
       "      <td>xXx: State of the Union (2005)</td>\n",
       "      <td>5</td>\n",
       "    </tr>\n",
       "    <tr>\n",
       "      <th>9717</th>\n",
       "      <td>¡Three Amigos! (1986)</td>\n",
       "      <td>26</td>\n",
       "    </tr>\n",
       "    <tr>\n",
       "      <th>9718</th>\n",
       "      <td>À nous la liberté (Freedom for Us) (1931)</td>\n",
       "      <td>1</td>\n",
       "    </tr>\n",
       "  </tbody>\n",
       "</table>\n",
       "<p>9719 rows × 2 columns</p>\n",
       "</div>"
      ],
      "text/plain": [
       "                                          title  userId\n",
       "0                                    '71 (2014)       1\n",
       "1       'Hellboy': The Seeds of Creation (2004)       1\n",
       "2                        'Round Midnight (1986)       2\n",
       "3                           'Salem's Lot (2004)       1\n",
       "4                     'Til There Was You (1997)       2\n",
       "...                                         ...     ...\n",
       "9714                            eXistenZ (1999)      22\n",
       "9715                                 xXx (2002)      24\n",
       "9716             xXx: State of the Union (2005)       5\n",
       "9717                      ¡Three Amigos! (1986)      26\n",
       "9718  À nous la liberté (Freedom for Us) (1931)       1\n",
       "\n",
       "[9719 rows x 2 columns]"
      ]
     },
     "execution_count": 10,
     "metadata": {},
     "output_type": "execute_result"
    }
   ],
   "source": [
    "movie_ratings_groupby = movie_ratings.groupby('title')['userId'].nunique().reset_index()\n",
    "movie_ratings_groupby"
   ]
  },
  {
   "cell_type": "code",
   "execution_count": 11,
   "id": "484d16c1",
   "metadata": {},
   "outputs": [
    {
     "data": {
      "text/plain": [
       "3158    Forrest Gump (1994)\n",
       "Name: title, dtype: object"
      ]
     },
     "execution_count": 11,
     "metadata": {},
     "output_type": "execute_result"
    }
   ],
   "source": [
    "movie_ratings_groupby[movie_ratings_groupby['userId'] == movie_ratings_groupby['userId'].max()].title\n",
    "#Forrest Gump (1994)"
   ]
  },
  {
   "cell_type": "code",
   "execution_count": 12,
   "id": "23e0fbe2",
   "metadata": {},
   "outputs": [
    {
     "data": {
      "text/html": [
       "<div>\n",
       "<style scoped>\n",
       "    .dataframe tbody tr th:only-of-type {\n",
       "        vertical-align: middle;\n",
       "    }\n",
       "\n",
       "    .dataframe tbody tr th {\n",
       "        vertical-align: top;\n",
       "    }\n",
       "\n",
       "    .dataframe thead th {\n",
       "        text-align: right;\n",
       "    }\n",
       "</style>\n",
       "<table border=\"1\" class=\"dataframe\">\n",
       "  <thead>\n",
       "    <tr style=\"text-align: right;\">\n",
       "      <th></th>\n",
       "      <th>userId</th>\n",
       "      <th>movieId</th>\n",
       "      <th>tag</th>\n",
       "      <th>timestamp</th>\n",
       "    </tr>\n",
       "  </thead>\n",
       "  <tbody>\n",
       "    <tr>\n",
       "      <th>0</th>\n",
       "      <td>2</td>\n",
       "      <td>60756</td>\n",
       "      <td>funny</td>\n",
       "      <td>1445714994</td>\n",
       "    </tr>\n",
       "    <tr>\n",
       "      <th>1</th>\n",
       "      <td>2</td>\n",
       "      <td>60756</td>\n",
       "      <td>Highly quotable</td>\n",
       "      <td>1445714996</td>\n",
       "    </tr>\n",
       "    <tr>\n",
       "      <th>2</th>\n",
       "      <td>2</td>\n",
       "      <td>60756</td>\n",
       "      <td>will ferrell</td>\n",
       "      <td>1445714992</td>\n",
       "    </tr>\n",
       "    <tr>\n",
       "      <th>3</th>\n",
       "      <td>2</td>\n",
       "      <td>89774</td>\n",
       "      <td>Boxing story</td>\n",
       "      <td>1445715207</td>\n",
       "    </tr>\n",
       "    <tr>\n",
       "      <th>4</th>\n",
       "      <td>2</td>\n",
       "      <td>89774</td>\n",
       "      <td>MMA</td>\n",
       "      <td>1445715200</td>\n",
       "    </tr>\n",
       "    <tr>\n",
       "      <th>...</th>\n",
       "      <td>...</td>\n",
       "      <td>...</td>\n",
       "      <td>...</td>\n",
       "      <td>...</td>\n",
       "    </tr>\n",
       "    <tr>\n",
       "      <th>3678</th>\n",
       "      <td>606</td>\n",
       "      <td>7382</td>\n",
       "      <td>for katie</td>\n",
       "      <td>1171234019</td>\n",
       "    </tr>\n",
       "    <tr>\n",
       "      <th>3679</th>\n",
       "      <td>606</td>\n",
       "      <td>7936</td>\n",
       "      <td>austere</td>\n",
       "      <td>1173392334</td>\n",
       "    </tr>\n",
       "    <tr>\n",
       "      <th>3680</th>\n",
       "      <td>610</td>\n",
       "      <td>3265</td>\n",
       "      <td>gun fu</td>\n",
       "      <td>1493843984</td>\n",
       "    </tr>\n",
       "    <tr>\n",
       "      <th>3681</th>\n",
       "      <td>610</td>\n",
       "      <td>3265</td>\n",
       "      <td>heroic bloodshed</td>\n",
       "      <td>1493843978</td>\n",
       "    </tr>\n",
       "    <tr>\n",
       "      <th>3682</th>\n",
       "      <td>610</td>\n",
       "      <td>168248</td>\n",
       "      <td>Heroic Bloodshed</td>\n",
       "      <td>1493844270</td>\n",
       "    </tr>\n",
       "  </tbody>\n",
       "</table>\n",
       "<p>3683 rows × 4 columns</p>\n",
       "</div>"
      ],
      "text/plain": [
       "      userId  movieId               tag   timestamp\n",
       "0          2    60756             funny  1445714994\n",
       "1          2    60756   Highly quotable  1445714996\n",
       "2          2    60756      will ferrell  1445714992\n",
       "3          2    89774      Boxing story  1445715207\n",
       "4          2    89774               MMA  1445715200\n",
       "...      ...      ...               ...         ...\n",
       "3678     606     7382         for katie  1171234019\n",
       "3679     606     7936           austere  1173392334\n",
       "3680     610     3265            gun fu  1493843984\n",
       "3681     610     3265  heroic bloodshed  1493843978\n",
       "3682     610   168248  Heroic Bloodshed  1493844270\n",
       "\n",
       "[3683 rows x 4 columns]"
      ]
     },
     "execution_count": 12,
     "metadata": {},
     "output_type": "execute_result"
    }
   ],
   "source": [
    "tags"
   ]
  },
  {
   "cell_type": "markdown",
   "id": "db5e12e2",
   "metadata": {},
   "source": [
    "#### Q6. Select all the correct tags submitted by users to \"Matrix, The (1999)\" movie?"
   ]
  },
  {
   "cell_type": "code",
   "execution_count": 13,
   "id": "e8508b54",
   "metadata": {},
   "outputs": [
    {
     "data": {
      "text/html": [
       "<div>\n",
       "<style scoped>\n",
       "    .dataframe tbody tr th:only-of-type {\n",
       "        vertical-align: middle;\n",
       "    }\n",
       "\n",
       "    .dataframe tbody tr th {\n",
       "        vertical-align: top;\n",
       "    }\n",
       "\n",
       "    .dataframe thead th {\n",
       "        text-align: right;\n",
       "    }\n",
       "</style>\n",
       "<table border=\"1\" class=\"dataframe\">\n",
       "  <thead>\n",
       "    <tr style=\"text-align: right;\">\n",
       "      <th></th>\n",
       "      <th>movieId</th>\n",
       "      <th>title</th>\n",
       "      <th>genres</th>\n",
       "      <th>userId</th>\n",
       "      <th>tag</th>\n",
       "      <th>timestamp</th>\n",
       "    </tr>\n",
       "  </thead>\n",
       "  <tbody>\n",
       "    <tr>\n",
       "      <th>0</th>\n",
       "      <td>1</td>\n",
       "      <td>Toy Story (1995)</td>\n",
       "      <td>Adventure|Animation|Children|Comedy|Fantasy</td>\n",
       "      <td>336</td>\n",
       "      <td>pixar</td>\n",
       "      <td>1139045764</td>\n",
       "    </tr>\n",
       "    <tr>\n",
       "      <th>1</th>\n",
       "      <td>1</td>\n",
       "      <td>Toy Story (1995)</td>\n",
       "      <td>Adventure|Animation|Children|Comedy|Fantasy</td>\n",
       "      <td>474</td>\n",
       "      <td>pixar</td>\n",
       "      <td>1137206825</td>\n",
       "    </tr>\n",
       "    <tr>\n",
       "      <th>2</th>\n",
       "      <td>1</td>\n",
       "      <td>Toy Story (1995)</td>\n",
       "      <td>Adventure|Animation|Children|Comedy|Fantasy</td>\n",
       "      <td>567</td>\n",
       "      <td>fun</td>\n",
       "      <td>1525286013</td>\n",
       "    </tr>\n",
       "    <tr>\n",
       "      <th>3</th>\n",
       "      <td>2</td>\n",
       "      <td>Jumanji (1995)</td>\n",
       "      <td>Adventure|Children|Fantasy</td>\n",
       "      <td>62</td>\n",
       "      <td>fantasy</td>\n",
       "      <td>1528843929</td>\n",
       "    </tr>\n",
       "    <tr>\n",
       "      <th>4</th>\n",
       "      <td>2</td>\n",
       "      <td>Jumanji (1995)</td>\n",
       "      <td>Adventure|Children|Fantasy</td>\n",
       "      <td>62</td>\n",
       "      <td>magic board game</td>\n",
       "      <td>1528843932</td>\n",
       "    </tr>\n",
       "    <tr>\n",
       "      <th>...</th>\n",
       "      <td>...</td>\n",
       "      <td>...</td>\n",
       "      <td>...</td>\n",
       "      <td>...</td>\n",
       "      <td>...</td>\n",
       "      <td>...</td>\n",
       "    </tr>\n",
       "    <tr>\n",
       "      <th>3678</th>\n",
       "      <td>187595</td>\n",
       "      <td>Solo: A Star Wars Story (2018)</td>\n",
       "      <td>Action|Adventure|Children|Sci-Fi</td>\n",
       "      <td>62</td>\n",
       "      <td>star wars</td>\n",
       "      <td>1528934552</td>\n",
       "    </tr>\n",
       "    <tr>\n",
       "      <th>3679</th>\n",
       "      <td>193565</td>\n",
       "      <td>Gintama: The Movie (2010)</td>\n",
       "      <td>Action|Animation|Comedy|Sci-Fi</td>\n",
       "      <td>184</td>\n",
       "      <td>anime</td>\n",
       "      <td>1537098582</td>\n",
       "    </tr>\n",
       "    <tr>\n",
       "      <th>3680</th>\n",
       "      <td>193565</td>\n",
       "      <td>Gintama: The Movie (2010)</td>\n",
       "      <td>Action|Animation|Comedy|Sci-Fi</td>\n",
       "      <td>184</td>\n",
       "      <td>comedy</td>\n",
       "      <td>1537098587</td>\n",
       "    </tr>\n",
       "    <tr>\n",
       "      <th>3681</th>\n",
       "      <td>193565</td>\n",
       "      <td>Gintama: The Movie (2010)</td>\n",
       "      <td>Action|Animation|Comedy|Sci-Fi</td>\n",
       "      <td>184</td>\n",
       "      <td>gintama</td>\n",
       "      <td>1537098603</td>\n",
       "    </tr>\n",
       "    <tr>\n",
       "      <th>3682</th>\n",
       "      <td>193565</td>\n",
       "      <td>Gintama: The Movie (2010)</td>\n",
       "      <td>Action|Animation|Comedy|Sci-Fi</td>\n",
       "      <td>184</td>\n",
       "      <td>remaster</td>\n",
       "      <td>1537098592</td>\n",
       "    </tr>\n",
       "  </tbody>\n",
       "</table>\n",
       "<p>3683 rows × 6 columns</p>\n",
       "</div>"
      ],
      "text/plain": [
       "      movieId                           title  \\\n",
       "0           1                Toy Story (1995)   \n",
       "1           1                Toy Story (1995)   \n",
       "2           1                Toy Story (1995)   \n",
       "3           2                  Jumanji (1995)   \n",
       "4           2                  Jumanji (1995)   \n",
       "...       ...                             ...   \n",
       "3678   187595  Solo: A Star Wars Story (2018)   \n",
       "3679   193565       Gintama: The Movie (2010)   \n",
       "3680   193565       Gintama: The Movie (2010)   \n",
       "3681   193565       Gintama: The Movie (2010)   \n",
       "3682   193565       Gintama: The Movie (2010)   \n",
       "\n",
       "                                           genres  userId               tag  \\\n",
       "0     Adventure|Animation|Children|Comedy|Fantasy     336             pixar   \n",
       "1     Adventure|Animation|Children|Comedy|Fantasy     474             pixar   \n",
       "2     Adventure|Animation|Children|Comedy|Fantasy     567               fun   \n",
       "3                      Adventure|Children|Fantasy      62           fantasy   \n",
       "4                      Adventure|Children|Fantasy      62  magic board game   \n",
       "...                                           ...     ...               ...   \n",
       "3678             Action|Adventure|Children|Sci-Fi      62         star wars   \n",
       "3679               Action|Animation|Comedy|Sci-Fi     184             anime   \n",
       "3680               Action|Animation|Comedy|Sci-Fi     184            comedy   \n",
       "3681               Action|Animation|Comedy|Sci-Fi     184           gintama   \n",
       "3682               Action|Animation|Comedy|Sci-Fi     184          remaster   \n",
       "\n",
       "       timestamp  \n",
       "0     1139045764  \n",
       "1     1137206825  \n",
       "2     1525286013  \n",
       "3     1528843929  \n",
       "4     1528843932  \n",
       "...          ...  \n",
       "3678  1528934552  \n",
       "3679  1537098582  \n",
       "3680  1537098587  \n",
       "3681  1537098603  \n",
       "3682  1537098592  \n",
       "\n",
       "[3683 rows x 6 columns]"
      ]
     },
     "execution_count": 13,
     "metadata": {},
     "output_type": "execute_result"
    }
   ],
   "source": [
    "movie_tags = pd.merge(movies, tags, on='movieId', how='inner')\n",
    "movie_tags"
   ]
  },
  {
   "cell_type": "code",
   "execution_count": 14,
   "id": "3f6de34b",
   "metadata": {},
   "outputs": [],
   "source": [
    "movie_names = list(movie_tags.title.unique())"
   ]
  },
  {
   "cell_type": "code",
   "execution_count": 15,
   "id": "eb7116e9",
   "metadata": {},
   "outputs": [
    {
     "name": "stdout",
     "output_type": "stream",
     "text": [
      "Matrix, The (1999)\n",
      "Animatrix, The (2003)\n"
     ]
    }
   ],
   "source": [
    "for i in movie_names:\n",
    "    if 'matrix' in i.lower():\n",
    "        print(i)"
   ]
  },
  {
   "cell_type": "code",
   "execution_count": 16,
   "id": "f2dc6591",
   "metadata": {},
   "outputs": [
    {
     "data": {
      "text/plain": [
       "1313          martial arts\n",
       "1314                sci-fi\n",
       "1315    alternate universe\n",
       "1316            philosophy\n",
       "1317      post apocalyptic\n",
       "Name: tag, dtype: object"
      ]
     },
     "execution_count": 16,
     "metadata": {},
     "output_type": "execute_result"
    }
   ],
   "source": [
    "movie_tags[movie_tags['title'] == 'Matrix, The (1999)']['tag']"
   ]
  },
  {
   "cell_type": "code",
   "execution_count": 17,
   "id": "8be73c04",
   "metadata": {},
   "outputs": [],
   "source": [
    "#alternate universe\n",
    "#philosophy\n",
    "#post apocalyptic"
   ]
  },
  {
   "cell_type": "markdown",
   "id": "24995a5d",
   "metadata": {},
   "source": [
    "#### Q.7)What is the average user rating for movie named \"Terminator 2: Judgment Day (1991)\"?"
   ]
  },
  {
   "cell_type": "code",
   "execution_count": 18,
   "id": "84f921af",
   "metadata": {},
   "outputs": [
    {
     "name": "stdout",
     "output_type": "stream",
     "text": [
      "Terminator 2: Judgment Day (1991)\n",
      "Terminator, The (1984)\n",
      "Terminator Salvation (2009)\n"
     ]
    }
   ],
   "source": [
    "for i in movie_names:\n",
    "    if 'terminator' in i.lower():\n",
    "        print(i)"
   ]
  },
  {
   "cell_type": "code",
   "execution_count": 19,
   "id": "b766baae",
   "metadata": {},
   "outputs": [],
   "source": [
    "terminator_2_ratings = list(movie_ratings[movie_ratings.title=='Terminator 2: Judgment Day (1991)']['rating'])\n",
    "\n"
   ]
  },
  {
   "cell_type": "code",
   "execution_count": 20,
   "id": "ac13bfdf",
   "metadata": {},
   "outputs": [
    {
     "name": "stdout",
     "output_type": "stream",
     "text": [
      "avg rating of Terminator 2: Judgment Day (1991) is 3.970982142857143\n"
     ]
    }
   ],
   "source": [
    "print(f'avg rating of Terminator 2: Judgment Day (1991) is {sum(terminator_2_ratings)/len(terminator_2_ratings)}')"
   ]
  },
  {
   "cell_type": "markdown",
   "id": "5814fc2e",
   "metadata": {},
   "source": [
    "#### Q.8)How does the data distribution of user ratings for \"Fight Club (1999)\" movie looks like?"
   ]
  },
  {
   "cell_type": "code",
   "execution_count": 21,
   "id": "24510172",
   "metadata": {},
   "outputs": [
    {
     "name": "stdout",
     "output_type": "stream",
     "text": [
      "X-Files: Fight the Future, The (1998)\n",
      "Fight Club (1999)\n",
      "Dogfight (1991)\n",
      "Why We Fight (2005)\n"
     ]
    }
   ],
   "source": [
    "for i in movie_names:\n",
    "    if 'fight' in i.lower():\n",
    "        print(i)"
   ]
  },
  {
   "cell_type": "code",
   "execution_count": 22,
   "id": "933b1f43",
   "metadata": {},
   "outputs": [],
   "source": [
    "fight_club_ratings = list(movie_ratings[movie_ratings.title=='Fight Club (1999)']['rating'])"
   ]
  },
  {
   "cell_type": "code",
   "execution_count": 23,
   "id": "250f18cf",
   "metadata": {},
   "outputs": [
    {
     "data": {
      "image/png": "[encoded data removed]",
      "text/plain": [
       "<Figure size 640x480 with 1 Axes>"
      ]
     },
     "metadata": {},
     "output_type": "display_data"
    }
   ],
   "source": [
    "sns.kdeplot(fight_club_ratings, shade=True, color='blue')\n",
    "plt.show()"
   ]
  },
  {
   "cell_type": "code",
   "execution_count": 24,
   "id": "87c27f53",
   "metadata": {},
   "outputs": [],
   "source": [
    "#left skewed distribution"
   ]
  },
  {
   "cell_type": "code",
   "execution_count": 25,
   "id": "15eadb6f",
   "metadata": {},
   "outputs": [],
   "source": [
    "#important note 1\n",
    "grouped_ratings = ratings.groupby('movieId')['rating'].agg(['count', 'mean']).reset_index()\n",
    "grouped_ratings.columns = ['movieId','user_rating_count','user_rating_mean']\n",
    "grouped_movie_ratings = pd.merge(movies, grouped_ratings, on='movieId', how='inner')\n",
    "grouped_movie_ratings_50 = grouped_movie_ratings[grouped_movie_ratings['user_rating_count']>50]"
   ]
  },
  {
   "cell_type": "markdown",
   "id": "fbac4c11",
   "metadata": {},
   "source": [
    "#### Q.9) Which movie is the most popular based on  average user ratings?"
   ]
  },
  {
   "cell_type": "code",
   "execution_count": 26,
   "id": "926bfe55",
   "metadata": {},
   "outputs": [
    {
     "data": {
      "text/plain": [
       "277    Shawshank Redemption, The (1994)\n",
       "Name: title, dtype: object"
      ]
     },
     "execution_count": 26,
     "metadata": {},
     "output_type": "execute_result"
    }
   ],
   "source": [
    "max_movie_rating = grouped_movie_ratings_50.user_rating_mean.max()\n",
    "grouped_movie_ratings_50[grouped_movie_ratings_50['user_rating_mean']==max_movie_rating].title"
   ]
  },
  {
   "cell_type": "markdown",
   "id": "159a848f",
   "metadata": {},
   "source": [
    "#### Q.10) Select all the correct options which comes under top 5 popular movies based on number of user ratings."
   ]
  },
  {
   "cell_type": "code",
   "execution_count": 27,
   "id": "43940903",
   "metadata": {},
   "outputs": [
    {
     "name": "stdout",
     "output_type": "stream",
     "text": [
      "1938    Matrix, The (1999)\n",
      "Name: title, dtype: object\n",
      "510    Silence of the Lambs, The (1991)\n",
      "Name: title, dtype: object\n",
      "257    Pulp Fiction (1994)\n",
      "Name: title, dtype: object\n",
      "277    Shawshank Redemption, The (1994)\n",
      "Name: title, dtype: object\n",
      "314    Forrest Gump (1994)\n",
      "Name: title, dtype: object\n"
     ]
    }
   ],
   "source": [
    "for i in sorted(grouped_movie_ratings_50.user_rating_count)[-5:]:\n",
    "    print(grouped_movie_ratings_50[grouped_movie_ratings_50['user_rating_count']==i]['title'])"
   ]
  },
  {
   "cell_type": "code",
   "execution_count": 28,
   "id": "6914de87",
   "metadata": {},
   "outputs": [],
   "source": [
    "#Matrix, The (1999)\n",
    "#Silence of the Lambs, The (1991)\n",
    "#Pulp Fiction (1994)"
   ]
  },
  {
   "cell_type": "markdown",
   "id": "f8dec1e5",
   "metadata": {},
   "source": [
    "#### Q.11) Which Sci-Fi movie is \"third most popular\" based on the number of user ratings?"
   ]
  },
  {
   "cell_type": "code",
   "execution_count": 29,
   "id": "ddf65658",
   "metadata": {},
   "outputs": [],
   "source": [
    "rows = list()\n",
    "for i in range(len(grouped_movie_ratings_50)):\n",
    "    if 'Sci-Fi' in grouped_movie_ratings_50.iloc[i]['genres']:\n",
    "        rows.append(i)\n",
    "grouped_movie_ratings_50_sci_fi = grouped_movie_ratings_50.iloc[rows].reset_index(drop=True)\n"
   ]
  },
  {
   "cell_type": "code",
   "execution_count": 30,
   "id": "9726090b",
   "metadata": {},
   "outputs": [
    {
     "data": {
      "text/plain": [
       "'Jurassic Park (1993)'"
      ]
     },
     "execution_count": 30,
     "metadata": {},
     "output_type": "execute_result"
    }
   ],
   "source": [
    "grouped_movie_ratings_50_sci_fi.sort_values(by='user_rating_count', ascending=False).reset_index(drop=True).iloc[2].title"
   ]
  },
  {
   "cell_type": "code",
   "execution_count": 31,
   "id": "02b891bb",
   "metadata": {},
   "outputs": [
    {
     "data": {
      "text/html": [
       "<div>\n",
       "<style scoped>\n",
       "    .dataframe tbody tr th:only-of-type {\n",
       "        vertical-align: middle;\n",
       "    }\n",
       "\n",
       "    .dataframe tbody tr th {\n",
       "        vertical-align: top;\n",
       "    }\n",
       "\n",
       "    .dataframe thead th {\n",
       "        text-align: right;\n",
       "    }\n",
       "</style>\n",
       "<table border=\"1\" class=\"dataframe\">\n",
       "  <thead>\n",
       "    <tr style=\"text-align: right;\">\n",
       "      <th></th>\n",
       "      <th>movieId</th>\n",
       "      <th>imdbId</th>\n",
       "      <th>tmdbId</th>\n",
       "    </tr>\n",
       "  </thead>\n",
       "  <tbody>\n",
       "    <tr>\n",
       "      <th>0</th>\n",
       "      <td>1</td>\n",
       "      <td>114709</td>\n",
       "      <td>862.0</td>\n",
       "    </tr>\n",
       "    <tr>\n",
       "      <th>1</th>\n",
       "      <td>2</td>\n",
       "      <td>113497</td>\n",
       "      <td>8844.0</td>\n",
       "    </tr>\n",
       "    <tr>\n",
       "      <th>2</th>\n",
       "      <td>3</td>\n",
       "      <td>113228</td>\n",
       "      <td>15602.0</td>\n",
       "    </tr>\n",
       "    <tr>\n",
       "      <th>3</th>\n",
       "      <td>4</td>\n",
       "      <td>114885</td>\n",
       "      <td>31357.0</td>\n",
       "    </tr>\n",
       "    <tr>\n",
       "      <th>4</th>\n",
       "      <td>5</td>\n",
       "      <td>113041</td>\n",
       "      <td>11862.0</td>\n",
       "    </tr>\n",
       "    <tr>\n",
       "      <th>...</th>\n",
       "      <td>...</td>\n",
       "      <td>...</td>\n",
       "      <td>...</td>\n",
       "    </tr>\n",
       "    <tr>\n",
       "      <th>9737</th>\n",
       "      <td>193581</td>\n",
       "      <td>5476944</td>\n",
       "      <td>432131.0</td>\n",
       "    </tr>\n",
       "    <tr>\n",
       "      <th>9738</th>\n",
       "      <td>193583</td>\n",
       "      <td>5914996</td>\n",
       "      <td>445030.0</td>\n",
       "    </tr>\n",
       "    <tr>\n",
       "      <th>9739</th>\n",
       "      <td>193585</td>\n",
       "      <td>6397426</td>\n",
       "      <td>479308.0</td>\n",
       "    </tr>\n",
       "    <tr>\n",
       "      <th>9740</th>\n",
       "      <td>193587</td>\n",
       "      <td>8391976</td>\n",
       "      <td>483455.0</td>\n",
       "    </tr>\n",
       "    <tr>\n",
       "      <th>9741</th>\n",
       "      <td>193609</td>\n",
       "      <td>101726</td>\n",
       "      <td>37891.0</td>\n",
       "    </tr>\n",
       "  </tbody>\n",
       "</table>\n",
       "<p>9742 rows × 3 columns</p>\n",
       "</div>"
      ],
      "text/plain": [
       "      movieId   imdbId    tmdbId\n",
       "0           1   114709     862.0\n",
       "1           2   113497    8844.0\n",
       "2           3   113228   15602.0\n",
       "3           4   114885   31357.0\n",
       "4           5   113041   11862.0\n",
       "...       ...      ...       ...\n",
       "9737   193581  5476944  432131.0\n",
       "9738   193583  5914996  445030.0\n",
       "9739   193585  6397426  479308.0\n",
       "9740   193587  8391976  483455.0\n",
       "9741   193609   101726   37891.0\n",
       "\n",
       "[9742 rows x 3 columns]"
      ]
     },
     "execution_count": 31,
     "metadata": {},
     "output_type": "execute_result"
    }
   ],
   "source": [
    "#important note 2\n",
    "links"
   ]
  },
  {
   "cell_type": "code",
   "execution_count": 32,
   "id": "da2dc4d7",
   "metadata": {},
   "outputs": [],
   "source": [
    "grouped_movie_ratings_50_links = pd.merge(grouped_movie_ratings_50, links, on='movieId', how='inner')"
   ]
  },
  {
   "cell_type": "code",
   "execution_count": 33,
   "id": "1245de22",
   "metadata": {},
   "outputs": [
    {
     "data": {
      "text/html": [
       "<div>\n",
       "<style scoped>\n",
       "    .dataframe tbody tr th:only-of-type {\n",
       "        vertical-align: middle;\n",
       "    }\n",
       "\n",
       "    .dataframe tbody tr th {\n",
       "        vertical-align: top;\n",
       "    }\n",
       "\n",
       "    .dataframe thead th {\n",
       "        text-align: right;\n",
       "    }\n",
       "</style>\n",
       "<table border=\"1\" class=\"dataframe\">\n",
       "  <thead>\n",
       "    <tr style=\"text-align: right;\">\n",
       "      <th></th>\n",
       "      <th>movieId</th>\n",
       "      <th>title</th>\n",
       "      <th>genres</th>\n",
       "      <th>user_rating_count</th>\n",
       "      <th>user_rating_mean</th>\n",
       "      <th>imdbId</th>\n",
       "      <th>tmdbId</th>\n",
       "    </tr>\n",
       "  </thead>\n",
       "  <tbody>\n",
       "    <tr>\n",
       "      <th>0</th>\n",
       "      <td>1</td>\n",
       "      <td>Toy Story (1995)</td>\n",
       "      <td>Adventure|Animation|Children|Comedy|Fantasy</td>\n",
       "      <td>215</td>\n",
       "      <td>3.920930</td>\n",
       "      <td>114709</td>\n",
       "      <td>862.0</td>\n",
       "    </tr>\n",
       "    <tr>\n",
       "      <th>1</th>\n",
       "      <td>2</td>\n",
       "      <td>Jumanji (1995)</td>\n",
       "      <td>Adventure|Children|Fantasy</td>\n",
       "      <td>110</td>\n",
       "      <td>3.431818</td>\n",
       "      <td>113497</td>\n",
       "      <td>8844.0</td>\n",
       "    </tr>\n",
       "    <tr>\n",
       "      <th>2</th>\n",
       "      <td>3</td>\n",
       "      <td>Grumpier Old Men (1995)</td>\n",
       "      <td>Comedy|Romance</td>\n",
       "      <td>52</td>\n",
       "      <td>3.259615</td>\n",
       "      <td>113228</td>\n",
       "      <td>15602.0</td>\n",
       "    </tr>\n",
       "    <tr>\n",
       "      <th>3</th>\n",
       "      <td>6</td>\n",
       "      <td>Heat (1995)</td>\n",
       "      <td>Action|Crime|Thriller</td>\n",
       "      <td>102</td>\n",
       "      <td>3.946078</td>\n",
       "      <td>113277</td>\n",
       "      <td>949.0</td>\n",
       "    </tr>\n",
       "    <tr>\n",
       "      <th>4</th>\n",
       "      <td>7</td>\n",
       "      <td>Sabrina (1995)</td>\n",
       "      <td>Comedy|Romance</td>\n",
       "      <td>54</td>\n",
       "      <td>3.185185</td>\n",
       "      <td>114319</td>\n",
       "      <td>11860.0</td>\n",
       "    </tr>\n",
       "    <tr>\n",
       "      <th>...</th>\n",
       "      <td>...</td>\n",
       "      <td>...</td>\n",
       "      <td>...</td>\n",
       "      <td>...</td>\n",
       "      <td>...</td>\n",
       "      <td>...</td>\n",
       "      <td>...</td>\n",
       "    </tr>\n",
       "    <tr>\n",
       "      <th>431</th>\n",
       "      <td>106782</td>\n",
       "      <td>Wolf of Wall Street, The (2013)</td>\n",
       "      <td>Comedy|Crime|Drama</td>\n",
       "      <td>54</td>\n",
       "      <td>3.916667</td>\n",
       "      <td>993846</td>\n",
       "      <td>106646.0</td>\n",
       "    </tr>\n",
       "    <tr>\n",
       "      <th>432</th>\n",
       "      <td>109374</td>\n",
       "      <td>Grand Budapest Hotel, The (2014)</td>\n",
       "      <td>Comedy|Drama</td>\n",
       "      <td>52</td>\n",
       "      <td>3.778846</td>\n",
       "      <td>2278388</td>\n",
       "      <td>120467.0</td>\n",
       "    </tr>\n",
       "    <tr>\n",
       "      <th>433</th>\n",
       "      <td>109487</td>\n",
       "      <td>Interstellar (2014)</td>\n",
       "      <td>Sci-Fi|IMAX</td>\n",
       "      <td>73</td>\n",
       "      <td>3.993151</td>\n",
       "      <td>816692</td>\n",
       "      <td>157336.0</td>\n",
       "    </tr>\n",
       "    <tr>\n",
       "      <th>434</th>\n",
       "      <td>112852</td>\n",
       "      <td>Guardians of the Galaxy (2014)</td>\n",
       "      <td>Action|Adventure|Sci-Fi</td>\n",
       "      <td>59</td>\n",
       "      <td>4.050847</td>\n",
       "      <td>2015381</td>\n",
       "      <td>118340.0</td>\n",
       "    </tr>\n",
       "    <tr>\n",
       "      <th>435</th>\n",
       "      <td>122904</td>\n",
       "      <td>Deadpool (2016)</td>\n",
       "      <td>Action|Adventure|Comedy|Sci-Fi</td>\n",
       "      <td>54</td>\n",
       "      <td>3.833333</td>\n",
       "      <td>1431045</td>\n",
       "      <td>293660.0</td>\n",
       "    </tr>\n",
       "  </tbody>\n",
       "</table>\n",
       "<p>436 rows × 7 columns</p>\n",
       "</div>"
      ],
      "text/plain": [
       "     movieId                             title  \\\n",
       "0          1                  Toy Story (1995)   \n",
       "1          2                    Jumanji (1995)   \n",
       "2          3           Grumpier Old Men (1995)   \n",
       "3          6                       Heat (1995)   \n",
       "4          7                    Sabrina (1995)   \n",
       "..       ...                               ...   \n",
       "431   106782   Wolf of Wall Street, The (2013)   \n",
       "432   109374  Grand Budapest Hotel, The (2014)   \n",
       "433   109487               Interstellar (2014)   \n",
       "434   112852    Guardians of the Galaxy (2014)   \n",
       "435   122904                   Deadpool (2016)   \n",
       "\n",
       "                                          genres  user_rating_count  \\\n",
       "0    Adventure|Animation|Children|Comedy|Fantasy                215   \n",
       "1                     Adventure|Children|Fantasy                110   \n",
       "2                                 Comedy|Romance                 52   \n",
       "3                          Action|Crime|Thriller                102   \n",
       "4                                 Comedy|Romance                 54   \n",
       "..                                           ...                ...   \n",
       "431                           Comedy|Crime|Drama                 54   \n",
       "432                                 Comedy|Drama                 52   \n",
       "433                                  Sci-Fi|IMAX                 73   \n",
       "434                      Action|Adventure|Sci-Fi                 59   \n",
       "435               Action|Adventure|Comedy|Sci-Fi                 54   \n",
       "\n",
       "     user_rating_mean   imdbId    tmdbId  \n",
       "0            3.920930   114709     862.0  \n",
       "1            3.431818   113497    8844.0  \n",
       "2            3.259615   113228   15602.0  \n",
       "3            3.946078   113277     949.0  \n",
       "4            3.185185   114319   11860.0  \n",
       "..                ...      ...       ...  \n",
       "431          3.916667   993846  106646.0  \n",
       "432          3.778846  2278388  120467.0  \n",
       "433          3.993151   816692  157336.0  \n",
       "434          4.050847  2015381  118340.0  \n",
       "435          3.833333  1431045  293660.0  \n",
       "\n",
       "[436 rows x 7 columns]"
      ]
     },
     "execution_count": 33,
     "metadata": {},
     "output_type": "execute_result"
    }
   ],
   "source": [
    "grouped_movie_ratings_50_links"
   ]
  },
  {
   "cell_type": "code",
   "execution_count": 86,
   "id": "d50fd5f1",
   "metadata": {},
   "outputs": [
    {
     "name": "stderr",
     "output_type": "stream",
     "text": [
      "100%|█████████████████████████████████████████| 436/436 [11:46<00:00,  1.62s/it]\n"
     ]
    }
   ],
   "source": [
    "dummy = dict()\n",
    "for imdbId in tqdm(list(grouped_movie_ratings_50_links.imdbId)):\n",
    "    id = str(int(imdbId))\n",
    "    n_zeroes = 7 - len(id)\n",
    "    new_id = \"0\"*n_zeroes + id\n",
    "    URL = f\"https://www.imdb.com/title/tt{new_id}/\"\n",
    "    request_header = {'Content-Type': 'text/html; charset=UTF-8', \n",
    "                          'User-Agent': 'Mozilla/5.0 (Windows NT 10.0; Win64; x64; rv:109.0) Gecko/20100101 Firefox/119.0', \n",
    "                          'Accept-Encoding': 'gzip, deflate, br'}\n",
    "    response = requests.get(URL, headers=request_header)\n",
    "\n",
    "    # Check if the request was successful (status code 200)\n",
    "    if response.status_code == 200:\n",
    "        soup = BeautifulSoup(response.content, 'html.parser')\n",
    "        script_tag = soup.find('script', type='application/ld+json')\n",
    "        script_content = script_tag.contents[0]\n",
    "        dummy[imdbId] = json.loads(script_content)['aggregateRating']['ratingValue']\n",
    "    else:\n",
    "        print(f\"Failed to retrieve the page. Status code: {response.status_code}\")"
   ]
  },
  {
   "cell_type": "code",
   "execution_count": 101,
   "id": "a4decf7a",
   "metadata": {},
   "outputs": [],
   "source": [
    "imbd_rating = dict()\n",
    "imbd_rating['imdbId'] = list()\n",
    "imbd_rating['imdbrating'] = list()\n",
    "for key,values in dummy.items():\n",
    "    imbd_rating['imdbId'].append(key)\n",
    "    imbd_rating['imdbrating'].append(values)"
   ]
  },
  {
   "cell_type": "code",
   "execution_count": 104,
   "id": "7eb2ee47",
   "metadata": {},
   "outputs": [],
   "source": [
    "imbd_rating_df = pd.DataFrame(imbd_rating)"
   ]
  },
  {
   "cell_type": "code",
   "execution_count": 106,
   "id": "a514b507",
   "metadata": {},
   "outputs": [],
   "source": [
    "grouped_movie_ratings_50_links =  pd.merge(grouped_movie_ratings_50_links, imbd_rating_df, on='imdbId', how='inner')"
   ]
  },
  {
   "cell_type": "code",
   "execution_count": 107,
   "id": "dcfcfc9e",
   "metadata": {},
   "outputs": [
    {
     "data": {
      "text/html": [
       "<div>\n",
       "<style scoped>\n",
       "    .dataframe tbody tr th:only-of-type {\n",
       "        vertical-align: middle;\n",
       "    }\n",
       "\n",
       "    .dataframe tbody tr th {\n",
       "        vertical-align: top;\n",
       "    }\n",
       "\n",
       "    .dataframe thead th {\n",
       "        text-align: right;\n",
       "    }\n",
       "</style>\n",
       "<table border=\"1\" class=\"dataframe\">\n",
       "  <thead>\n",
       "    <tr style=\"text-align: right;\">\n",
       "      <th></th>\n",
       "      <th>movieId</th>\n",
       "      <th>title</th>\n",
       "      <th>genres</th>\n",
       "      <th>user_rating_count</th>\n",
       "      <th>user_rating_mean</th>\n",
       "      <th>imdbId</th>\n",
       "      <th>tmdbId</th>\n",
       "      <th>imdbrating</th>\n",
       "    </tr>\n",
       "  </thead>\n",
       "  <tbody>\n",
       "    <tr>\n",
       "      <th>0</th>\n",
       "      <td>1</td>\n",
       "      <td>Toy Story (1995)</td>\n",
       "      <td>Adventure|Animation|Children|Comedy|Fantasy</td>\n",
       "      <td>215</td>\n",
       "      <td>3.920930</td>\n",
       "      <td>114709</td>\n",
       "      <td>862.0</td>\n",
       "      <td>8.3</td>\n",
       "    </tr>\n",
       "    <tr>\n",
       "      <th>1</th>\n",
       "      <td>2</td>\n",
       "      <td>Jumanji (1995)</td>\n",
       "      <td>Adventure|Children|Fantasy</td>\n",
       "      <td>110</td>\n",
       "      <td>3.431818</td>\n",
       "      <td>113497</td>\n",
       "      <td>8844.0</td>\n",
       "      <td>7.1</td>\n",
       "    </tr>\n",
       "    <tr>\n",
       "      <th>2</th>\n",
       "      <td>3</td>\n",
       "      <td>Grumpier Old Men (1995)</td>\n",
       "      <td>Comedy|Romance</td>\n",
       "      <td>52</td>\n",
       "      <td>3.259615</td>\n",
       "      <td>113228</td>\n",
       "      <td>15602.0</td>\n",
       "      <td>6.6</td>\n",
       "    </tr>\n",
       "    <tr>\n",
       "      <th>3</th>\n",
       "      <td>6</td>\n",
       "      <td>Heat (1995)</td>\n",
       "      <td>Action|Crime|Thriller</td>\n",
       "      <td>102</td>\n",
       "      <td>3.946078</td>\n",
       "      <td>113277</td>\n",
       "      <td>949.0</td>\n",
       "      <td>8.3</td>\n",
       "    </tr>\n",
       "    <tr>\n",
       "      <th>4</th>\n",
       "      <td>7</td>\n",
       "      <td>Sabrina (1995)</td>\n",
       "      <td>Comedy|Romance</td>\n",
       "      <td>54</td>\n",
       "      <td>3.185185</td>\n",
       "      <td>114319</td>\n",
       "      <td>11860.0</td>\n",
       "      <td>6.3</td>\n",
       "    </tr>\n",
       "    <tr>\n",
       "      <th>...</th>\n",
       "      <td>...</td>\n",
       "      <td>...</td>\n",
       "      <td>...</td>\n",
       "      <td>...</td>\n",
       "      <td>...</td>\n",
       "      <td>...</td>\n",
       "      <td>...</td>\n",
       "      <td>...</td>\n",
       "    </tr>\n",
       "    <tr>\n",
       "      <th>431</th>\n",
       "      <td>106782</td>\n",
       "      <td>Wolf of Wall Street, The (2013)</td>\n",
       "      <td>Comedy|Crime|Drama</td>\n",
       "      <td>54</td>\n",
       "      <td>3.916667</td>\n",
       "      <td>993846</td>\n",
       "      <td>106646.0</td>\n",
       "      <td>8.2</td>\n",
       "    </tr>\n",
       "    <tr>\n",
       "      <th>432</th>\n",
       "      <td>109374</td>\n",
       "      <td>Grand Budapest Hotel, The (2014)</td>\n",
       "      <td>Comedy|Drama</td>\n",
       "      <td>52</td>\n",
       "      <td>3.778846</td>\n",
       "      <td>2278388</td>\n",
       "      <td>120467.0</td>\n",
       "      <td>8.1</td>\n",
       "    </tr>\n",
       "    <tr>\n",
       "      <th>433</th>\n",
       "      <td>109487</td>\n",
       "      <td>Interstellar (2014)</td>\n",
       "      <td>Sci-Fi|IMAX</td>\n",
       "      <td>73</td>\n",
       "      <td>3.993151</td>\n",
       "      <td>816692</td>\n",
       "      <td>157336.0</td>\n",
       "      <td>8.7</td>\n",
       "    </tr>\n",
       "    <tr>\n",
       "      <th>434</th>\n",
       "      <td>112852</td>\n",
       "      <td>Guardians of the Galaxy (2014)</td>\n",
       "      <td>Action|Adventure|Sci-Fi</td>\n",
       "      <td>59</td>\n",
       "      <td>4.050847</td>\n",
       "      <td>2015381</td>\n",
       "      <td>118340.0</td>\n",
       "      <td>8.0</td>\n",
       "    </tr>\n",
       "    <tr>\n",
       "      <th>435</th>\n",
       "      <td>122904</td>\n",
       "      <td>Deadpool (2016)</td>\n",
       "      <td>Action|Adventure|Comedy|Sci-Fi</td>\n",
       "      <td>54</td>\n",
       "      <td>3.833333</td>\n",
       "      <td>1431045</td>\n",
       "      <td>293660.0</td>\n",
       "      <td>8.0</td>\n",
       "    </tr>\n",
       "  </tbody>\n",
       "</table>\n",
       "<p>436 rows × 8 columns</p>\n",
       "</div>"
      ],
      "text/plain": [
       "     movieId                             title  \\\n",
       "0          1                  Toy Story (1995)   \n",
       "1          2                    Jumanji (1995)   \n",
       "2          3           Grumpier Old Men (1995)   \n",
       "3          6                       Heat (1995)   \n",
       "4          7                    Sabrina (1995)   \n",
       "..       ...                               ...   \n",
       "431   106782   Wolf of Wall Street, The (2013)   \n",
       "432   109374  Grand Budapest Hotel, The (2014)   \n",
       "433   109487               Interstellar (2014)   \n",
       "434   112852    Guardians of the Galaxy (2014)   \n",
       "435   122904                   Deadpool (2016)   \n",
       "\n",
       "                                          genres  user_rating_count  \\\n",
       "0    Adventure|Animation|Children|Comedy|Fantasy                215   \n",
       "1                     Adventure|Children|Fantasy                110   \n",
       "2                                 Comedy|Romance                 52   \n",
       "3                          Action|Crime|Thriller                102   \n",
       "4                                 Comedy|Romance                 54   \n",
       "..                                           ...                ...   \n",
       "431                           Comedy|Crime|Drama                 54   \n",
       "432                                 Comedy|Drama                 52   \n",
       "433                                  Sci-Fi|IMAX                 73   \n",
       "434                      Action|Adventure|Sci-Fi                 59   \n",
       "435               Action|Adventure|Comedy|Sci-Fi                 54   \n",
       "\n",
       "     user_rating_mean   imdbId    tmdbId  imdbrating  \n",
       "0            3.920930   114709     862.0         8.3  \n",
       "1            3.431818   113497    8844.0         7.1  \n",
       "2            3.259615   113228   15602.0         6.6  \n",
       "3            3.946078   113277     949.0         8.3  \n",
       "4            3.185185   114319   11860.0         6.3  \n",
       "..                ...      ...       ...         ...  \n",
       "431          3.916667   993846  106646.0         8.2  \n",
       "432          3.778846  2278388  120467.0         8.1  \n",
       "433          3.993151   816692  157336.0         8.7  \n",
       "434          4.050847  2015381  118340.0         8.0  \n",
       "435          3.833333  1431045  293660.0         8.0  \n",
       "\n",
       "[436 rows x 8 columns]"
      ]
     },
     "execution_count": 107,
     "metadata": {},
     "output_type": "execute_result"
    }
   ],
   "source": [
    "grouped_movie_ratings_50_links"
   ]
  },
  {
   "cell_type": "markdown",
   "id": "f041bf99",
   "metadata": {},
   "source": [
    "#### Q.12) Mention the movieId of the movie which has the highest IMDB rating."
   ]
  },
  {
   "cell_type": "code",
   "execution_count": 129,
   "id": "51c4847f",
   "metadata": {},
   "outputs": [
    {
     "data": {
      "text/plain": [
       "318"
      ]
     },
     "execution_count": 129,
     "metadata": {},
     "output_type": "execute_result"
    }
   ],
   "source": [
    "grouped_movie_ratings_50_links.loc[grouped_movie_ratings_50_links['imdbrating'].idxmax(), 'movieId']"
   ]
  },
  {
   "cell_type": "markdown",
   "id": "d5b400d3",
   "metadata": {},
   "source": [
    "#### Q.13) Mention the movieId of the \"Sci-Fi\" movie which has the highest IMDB rating."
   ]
  },
  {
   "cell_type": "code",
   "execution_count": 115,
   "id": "c3d1ac4c",
   "metadata": {},
   "outputs": [],
   "source": [
    "rows = list()\n",
    "for i in range(len(grouped_movie_ratings_50_links)):\n",
    "    if 'Sci-Fi' in grouped_movie_ratings_50_links.iloc[i]['genres']:\n",
    "        rows.append(i)\n",
    "grouped_movie_ratings_50_links_sci_fi = grouped_movie_ratings_50_links.iloc[rows].reset_index(drop=True)"
   ]
  },
  {
   "cell_type": "code",
   "execution_count": 130,
   "id": "d322241a",
   "metadata": {},
   "outputs": [
    {
     "data": {
      "text/plain": [
       "79132"
      ]
     },
     "execution_count": 130,
     "metadata": {},
     "output_type": "execute_result"
    }
   ],
   "source": [
    "grouped_movie_ratings_50_links_sci_fi.loc[grouped_movie_ratings_50_links_sci_fi['imdbrating'].idxmax(), 'movieId']"
   ]
  },
  {
   "cell_type": "code",
   "execution_count": null,
   "id": "81f25917",
   "metadata": {},
   "outputs": [],
   "source": []
  }
 ],
 "metadata": {
  "kernelspec": {
   "display_name": "Python 3 (ipykernel)",
   "language": "python",
   "name": "python3"
  },
  "language_info": {
   "codemirror_mode": {
    "name": "ipython",
    "version": 3
   },
   "file_extension": ".py",
   "mimetype": "text/x-python",
   "name": "python",
   "nbconvert_exporter": "python",
   "pygments_lexer": "ipython3",
   "version": "3.9.13"
  }
 },
 "nbformat": 4,
 "nbformat_minor": 5
}
